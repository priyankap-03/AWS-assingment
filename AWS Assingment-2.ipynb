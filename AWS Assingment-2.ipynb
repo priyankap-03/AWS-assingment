{
 "cells": [
  {
   "cell_type": "code",
   "execution_count": 1,
   "id": "84310330",
   "metadata": {},
   "outputs": [
    {
     "name": "stdout",
     "output_type": "stream",
     "text": [
      "Capitalize function: Hello world\n",
      "Replicated .upper() function: HELLO WORLD\n",
      "Replicated .lower() function: hello world\n"
     ]
    }
   ],
   "source": [
    "string = \"hello world\"\n",
    "capitalize_function = string.capitalize()\n",
    "upper_function = string.upper()\n",
    "lower_function = string.lower()\n",
    "print(\"Capitalize function:\", capitalize_function)\n",
    "print(\"Replicated .upper() function:\", upper_function)\n",
    "print(\"Replicated .lower() function:\", lower_function)"
   ]
  },
  {
   "cell_type": "code",
   "execution_count": 6,
   "id": "8fb86515",
   "metadata": {},
   "outputs": [
    {
     "name": "stdout",
     "output_type": "stream",
     "text": [
      "Odd sequence: [1, 65, 1, 65, 31, 25, 15, 55, 33, 87, 9]\n"
     ]
    }
   ],
   "source": [
    "given_sequence = [1,2,34,65,1,2,65,66,44,31,25,15,55,33,22,87,123412,9,78,76]\n",
    "odd_sequence = [num for num in given_sequence if num % 2 != 0]\n",
    "print(\"Odd sequence:\", odd_sequence)\n"
   ]
  },
  {
   "cell_type": "code",
   "execution_count": 5,
   "id": "69a1ad03",
   "metadata": {},
   "outputs": [
    {
     "name": "stdout",
     "output_type": "stream",
     "text": [
      "Fruits with values more than 20: {'pineapple': 25, 'orange': 30, 'strawberry': 50}\n"
     ]
    }
   ],
   "source": [
    "fruits = {'apple': 10, 'mango': 20, 'pineapple': 25, 'orange': 30, 'strawberry': 50, 'jackfruit': 10}\n",
    "\n",
    "fruits_more_than_20 = {key: value for key, value in fruits.items() if value > 20}\n",
    "print(\"Fruits with values more than 20:\", fruits_more_than_20)\n",
    "     "
   ]
  },
  {
   "cell_type": "code",
   "execution_count": 8,
   "id": "3d22cb20",
   "metadata": {},
   "outputs": [
    {
     "name": "stdout",
     "output_type": "stream",
     "text": [
      "Fruits with values more than 20: {'pineapple': 25, 'orange': 30, 'strawberry': 50, 'grapes': 40}\n"
     ]
    }
   ],
   "source": [
    "fruits = {'jackfruit': 10, 'mango': 20, 'pineapple': 25, 'orange': 30, 'strawberry': 50, 'jackfruit': 10, 'grapes': 40}\n",
    "\n",
    "fruits_more_than_20 = {key: value for key, value in fruits.items() if value > 20}\n",
    "print(\"Fruits with values more than 20:\", fruits_more_than_20)\n",
    "     "
   ]
  },
  {
   "cell_type": "code",
   "execution_count": null,
   "id": "2f37966d",
   "metadata": {},
   "outputs": [],
   "source": []
  }
 ],
 "metadata": {
  "kernelspec": {
   "display_name": "Python 3 (ipykernel)",
   "language": "python",
   "name": "python3"
  },
  "language_info": {
   "codemirror_mode": {
    "name": "ipython",
    "version": 3
   },
   "file_extension": ".py",
   "mimetype": "text/x-python",
   "name": "python",
   "nbconvert_exporter": "python",
   "pygments_lexer": "ipython3",
   "version": "3.11.4"
  }
 },
 "nbformat": 4,
 "nbformat_minor": 5
}
