{
 "cells": [
  {
   "cell_type": "code",
   "execution_count": 6,
   "id": "a91c825b",
   "metadata": {},
   "outputs": [
    {
     "name": "stdout",
     "output_type": "stream",
     "text": [
      "Concatenated string: Hello priyanka\n"
     ]
    }
   ],
   "source": [
    "str1 = \"Hello\"\n",
    "str2 = \"priyanka\"\n",
    "concatenated_string = str1 + \" \" + str2\n",
    "print(\"Concatenated string:\", concatenated_string)"
   ]
  },
  {
   "cell_type": "code",
   "execution_count": 7,
   "id": "9b115953",
   "metadata": {},
   "outputs": [
    {
     "name": "stdout",
     "output_type": "stream",
     "text": [
      "Formatted string: Name: priyanka, Age: 20\n"
     ]
    }
   ],
   "source": [
    "name = \"priyanka\"\n",
    "age = 20\n",
    "formatted_string = \"Name: %s, Age: %d\" % (name, age)\n",
    "print(\"Formatted string:\", formatted_string)"
   ]
  },
  {
   "cell_type": "code",
   "execution_count": 8,
   "id": "bfdae787",
   "metadata": {},
   "outputs": [
    {
     "name": "stdout",
     "output_type": "stream",
     "text": [
      "Formatted string: Name: priyanka,age: 19\n"
     ]
    }
   ],
   "source": [
    "from string import Template\n",
    "template = Template('Name: priyanka,age: 19')\n",
    "formatted_string = template.substitute(name=name, age=age)\n",
    "print(\"Formatted string:\", formatted_string)"
   ]
  },
  {
   "cell_type": "code",
   "execution_count": 9,
   "id": "85e06fe7",
   "metadata": {},
   "outputs": [
    {
     "name": "stdout",
     "output_type": "stream",
     "text": [
      "Formatted string: Name: priyanka, Age: 20\n"
     ]
    }
   ],
   "source": [
    "formatted_string = \"Name: {}, Age: {}\".format(name, age)\n",
    "print(\"Formatted string:\", formatted_string)\n",
    "     "
   ]
  },
  {
   "cell_type": "code",
   "execution_count": 10,
   "id": "6079ea56",
   "metadata": {},
   "outputs": [
    {
     "name": "stdout",
     "output_type": "stream",
     "text": [
      "Addition result: 10\n"
     ]
    }
   ],
   "source": [
    "result_add = 5 + 5\n",
    "print(\"Addition result:\", result_add)\n",
    "     "
   ]
  },
  {
   "cell_type": "code",
   "execution_count": 11,
   "id": "c3799a88",
   "metadata": {},
   "outputs": [
    {
     "name": "stdout",
     "output_type": "stream",
     "text": [
      "Subtraction result: 71\n"
     ]
    }
   ],
   "source": [
    "result_sub = 74 - 3\n",
    "print(\"Subtraction result:\", result_sub)\n",
    "     "
   ]
  },
  {
   "cell_type": "code",
   "execution_count": 12,
   "id": "5e86e22a",
   "metadata": {},
   "outputs": [
    {
     "name": "stdout",
     "output_type": "stream",
     "text": [
      "Multiplication result: 63\n"
     ]
    }
   ],
   "source": [
    "\n",
    "result_mul = 7 * 9\n",
    "print(\"Multiplication result:\", result_mul)\n",
    "     \n"
   ]
  },
  {
   "cell_type": "code",
   "execution_count": 13,
   "id": "f7ead1a4",
   "metadata": {},
   "outputs": [
    {
     "name": "stdout",
     "output_type": "stream",
     "text": [
      "Division result: 2.0\n"
     ]
    }
   ],
   "source": [
    "result_div = 10 / 5\n",
    "print(\"Division result:\", result_div)"
   ]
  },
  {
   "cell_type": "code",
   "execution_count": 14,
   "id": "5cf6ec9e",
   "metadata": {},
   "outputs": [
    {
     "name": "stdout",
     "output_type": "stream",
     "text": [
      "Exponentiation result: 243\n"
     ]
    }
   ],
   "source": [
    "result_exp = 3 ** 5\n",
    "print(\"Exponentiation result:\", result_exp)"
   ]
  },
  {
   "cell_type": "code",
   "execution_count": 15,
   "id": "aaf15f8c",
   "metadata": {},
   "outputs": [
    {
     "name": "stdout",
     "output_type": "stream",
     "text": [
      "Modulus result: 0\n"
     ]
    }
   ],
   "source": [
    "result_mod = 24 % 2\n",
    "print(\"Modulus result:\", result_mod)\n",
    "     "
   ]
  },
  {
   "cell_type": "code",
   "execution_count": 16,
   "id": "e4b6212b",
   "metadata": {},
   "outputs": [
    {
     "name": "stdout",
     "output_type": "stream",
     "text": [
      "After subtraction assignment: 7\n"
     ]
    }
   ],
   "source": [
    "x = 10\n",
    "x -= 3\n",
    "print(\"After subtraction assignment:\", x)"
   ]
  },
  {
   "cell_type": "code",
   "execution_count": 17,
   "id": "3f6b3bd4",
   "metadata": {},
   "outputs": [
    {
     "name": "stdout",
     "output_type": "stream",
     "text": [
      "After multiplication assignment: 10\n"
     ]
    }
   ],
   "source": [
    "y = 5\n",
    "y *= 2\n",
    "print(\"After multiplication assignment:\", y)"
   ]
  },
  {
   "cell_type": "code",
   "execution_count": 18,
   "id": "5184bbb8",
   "metadata": {},
   "outputs": [
    {
     "name": "stdout",
     "output_type": "stream",
     "text": [
      "After division assignment: 3.75\n"
     ]
    }
   ],
   "source": [
    "z = 15\n",
    "z /= 4\n",
    "print(\"After division assignment:\", z)"
   ]
  },
  {
   "cell_type": "code",
   "execution_count": null,
   "id": "b094ec69",
   "metadata": {},
   "outputs": [],
   "source": []
  }
 ],
 "metadata": {
  "kernelspec": {
   "display_name": "Python 3 (ipykernel)",
   "language": "python",
   "name": "python3"
  },
  "language_info": {
   "codemirror_mode": {
    "name": "ipython",
    "version": 3
   },
   "file_extension": ".py",
   "mimetype": "text/x-python",
   "name": "python",
   "nbconvert_exporter": "python",
   "pygments_lexer": "ipython3",
   "version": "3.11.4"
  }
 },
 "nbformat": 4,
 "nbformat_minor": 5
}
